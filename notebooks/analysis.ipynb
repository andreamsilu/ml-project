# Analysis.ipynb

# Import necessary libraries
import numpy as np
import pandas as pd
import matplotlib.pyplot as plt
import seaborn as sns

# Set visualization style
sns.set(style="whitegrid")

# Load the datasets
train_file = "../data/dataSet1.csv"
test_file = "../data/dataSet2.csv"

# Load the datasets
train_data = pd.read_csv(train_file)
test_data = pd.read_csv(test_file)

# 1. Dataset Overview
print("Training Data Shape:", train_data.shape)
print("Testing Data Shape:", test_data.shape)
print("\nTraining Data Head:")
display(train_data.head())

# Check for missing values
print("\nMissing Values in Training Data:")
print(train_data.isnull().sum())

# 2. Summary Statistics
print("\nSummary Statistics:")
display(train_data.describe())

# 3. Visualize Class Distribution
plt.figure(figsize=(8, 5))
sns.countplot(x=train_data.iloc[:, -1])  # Assuming the last column is the label
plt.title("Distribution of Digits in Training Data")
plt.xlabel("Digit")
plt.ylabel("Count")
plt.show()

# 4. Visualize Sample Images
# Assuming features are 64 columns and are reshaped into an 8x8 grid
def plot_sample_images(data, num_samples=5):
    fig, axes = plt.subplots(1, num_samples, figsize=(15, 5))
    for i in range(num_samples):
        image = data.iloc[i, :-1].values.reshape(8, 8)  # Assuming last column is the label
        label = data.iloc[i, -1]
        axes[i].imshow(image, cmap="gray")
        axes[i].set_title(f"Digit: {label}")
        axes[i].axis("off")
    plt.tight_layout()
    plt.show()

plot_sample_images(train_data)

# 5. Correlation Matrix
plt.figure(figsize=(10, 8))
correlation_matrix = train_data.iloc[:, :-1].corr()
sns.heatmap(correlation_matrix, cmap="coolwarm", annot=False, cbar=True)
plt.title("Feature Correlation Heatmap")
plt.show()

# 6. Feature Engineering
# Normalize the features (0-1 range)
X_train = train_data.iloc[:, :-1] / 16.0  # Assuming pixel values are between 0-16
y_train = train_data.iloc[:, -1]

X_test = test_data.iloc[:, :-1] / 16.0
y_test = test_data.iloc[:, -1]

# Verify normalization
print("\nNormalized Data Example:")
display(X_train.head())

# 7. Insights
# Add markdown or comments summarizing findings
